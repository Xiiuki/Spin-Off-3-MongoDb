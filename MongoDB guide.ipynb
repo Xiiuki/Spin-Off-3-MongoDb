{
 "cells": [
  {
   "cell_type": "markdown",
   "metadata": {},
   "source": [
    "### Installation de MongoDB Community "
   ]
  },
  {
   "cell_type": "markdown",
   "metadata": {},
   "source": [
    "##### 1 - Dans un premier temps, téléchargez MongoDB Community :\n",
    "    \n",
    "https://www.mongodb.com/try/download/community?tck=docs_server"
   ]
  },
  {
   "cell_type": "markdown",
   "metadata": {},
   "source": [
    "##### 2 - Suivez les étape d'installation ."
   ]
  },
  {
   "cell_type": "markdown",
   "metadata": {},
   "source": [
    "Attention ! \n",
    "Ne pas cochez MongoD as Service, on ne veux pas qu'il s'installe comme service Windows."
   ]
  },
  {
   "cell_type": "markdown",
   "metadata": {},
   "source": [
    "![Attention](IMG/attention.PNG)"
   ]
  },
  {
   "cell_type": "markdown",
   "metadata": {},
   "source": [
    "##### 3 - Lancez votre CLI"
   ]
  },
  {
   "cell_type": "markdown",
   "metadata": {},
   "source": [
    "##### 4 - Exécutez cette commande :\n",
    "    \n",
    "    cd C:\\\n",
    "    md \"\\data\\db\""
   ]
  },
  {
   "cell_type": "markdown",
   "metadata": {},
   "source": [
    "Celle-ci permet de créez le répertoire de données dans lequel MongoDB stocke les données. \n",
    "Le chemin du répertoire de données par défaut de MongoDB est le chemin absolu \\ data \\ db sur le lecteur à partir duquel vous démarrez MongoDB."
   ]
  },
  {
   "cell_type": "markdown",
   "metadata": {},
   "source": [
    "----------------"
   ]
  },
  {
   "cell_type": "markdown",
   "metadata": {},
   "source": [
    "### Lancement de MongoDB"
   ]
  },
  {
   "cell_type": "markdown",
   "metadata": {},
   "source": [
    "##### 1 - Dans votre invite de commande, exécutez : \n",
    "    \n",
    "    cd C:\\"
   ]
  },
  {
   "cell_type": "markdown",
   "metadata": {},
   "source": [
    "##### 2 - Pour lancer le server MongoDB, exécutez :\n",
    "    \n",
    "    \"C:\\Program Files\\MongoDB\\Server\\4.4\\bin\\mongod.exe\" --dbpath=\"c:\\data\\db\""
   ]
  },
  {
   "cell_type": "markdown",
   "metadata": {},
   "source": [
    "![Server](IMG/Server_cli.PNG)"
   ]
  },
  {
   "cell_type": "markdown",
   "metadata": {},
   "source": [
    "##### 3 - Connectez vous au server MongoDB :\n",
    "    \n",
    "    \"C:\\Program Files\\MongoDB\\Server\\4.4\\bin\\mongo.exe\""
   ]
  },
  {
   "cell_type": "markdown",
   "metadata": {},
   "source": [
    "![connection](IMG/connection_cli.PNG)"
   ]
  },
  {
   "cell_type": "markdown",
   "metadata": {},
   "source": [
    "Source : https://docs.mongodb.com/manual/tutorial/install-mongodb-on-windows/#run-mongodb-from-cmd"
   ]
  },
  {
   "cell_type": "markdown",
   "metadata": {},
   "source": [
    "-------------------"
   ]
  },
  {
   "cell_type": "markdown",
   "metadata": {},
   "source": [
    "### MongoDB Compass"
   ]
  },
  {
   "cell_type": "markdown",
   "metadata": {},
   "source": [
    "##### 1 - Lancez MongoDBCompass"
   ]
  },
  {
   "cell_type": "markdown",
   "metadata": {},
   "source": [
    "##### 2 - Se connecter en local"
   ]
  },
  {
   "cell_type": "markdown",
   "metadata": {},
   "source": [
    "![local](IMG/Connect_local.PNG)"
   ]
  },
  {
   "cell_type": "markdown",
   "metadata": {},
   "source": [
    "![Database](IMG/Database.PNG)"
   ]
  },
  {
   "cell_type": "markdown",
   "metadata": {},
   "source": [
    "3 - Rachraîchir la database après à avoir fait des modification "
   ]
  },
  {
   "cell_type": "markdown",
   "metadata": {},
   "source": [
    "![refresh](IMG/refresh.PNG)"
   ]
  },
  {
   "cell_type": "markdown",
   "metadata": {},
   "source": [
    "4 - Se déconnecter proprement "
   ]
  },
  {
   "cell_type": "markdown",
   "metadata": {},
   "source": [
    "![déco](IMG/Deco.PNG)"
   ]
  },
  {
   "cell_type": "markdown",
   "metadata": {},
   "source": [
    "----------------"
   ]
  }
 ],
 "metadata": {
  "kernelspec": {
   "display_name": "Python 3",
   "language": "python",
   "name": "python3"
  },
  "language_info": {
   "codemirror_mode": {
    "name": "ipython",
    "version": 3
   },
   "file_extension": ".py",
   "mimetype": "text/x-python",
   "name": "python",
   "nbconvert_exporter": "python",
   "pygments_lexer": "ipython3",
   "version": "3.8.6"
  }
 },
 "nbformat": 4,
 "nbformat_minor": 4
}
