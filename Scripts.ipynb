{
 "cells": [
  {
   "cell_type": "markdown",
   "metadata": {},
   "source": [
    "### Transformer csv to json :"
   ]
  },
  {
   "cell_type": "code",
   "execution_count": 1,
   "metadata": {},
   "outputs": [
    {
     "name": "stdout",
     "output_type": "stream",
     "text": [
      "La création du Json a été faites !\n"
     ]
    }
   ],
   "source": [
    "import csv\n",
    "import json\n",
    "\n",
    "\n",
    "try:\n",
    "    # Chargement du fichier csv\n",
    "    \n",
    "    csvfile = open('BDD_csv/movies.csv', 'r', encoding='utf8')\n",
    "    \n",
    "    # Chargement du fichier json\n",
    "    \n",
    "    jsonfile = open('BDD_json/movies.json', 'w')\n",
    "\n",
    "    # Création de colonnes pour csv\n",
    "    fieldnames = (\"movieId\",\"title\",\"genres\")\n",
    "\n",
    "    # Lecture du fichier csv en format dict + les colonnes \n",
    "    reader = csv.DictReader( csvfile, fieldnames)\n",
    "\n",
    "    # Transformation en json\n",
    "    \n",
    "    out = json.dumps( [ row for row in reader ] )\n",
    "\n",
    "    # Ecriture sur le fichier json\n",
    "    \n",
    "    jsonfile.write(out)\n",
    "\n",
    "except:\n",
    "    print(\"Une erreur est survenue\")\n",
    "    exit(1)\n",
    "    \n",
    "else:\n",
    "    print(\"La création du Json a été faites !\")"
   ]
  },
  {
   "cell_type": "markdown",
   "metadata": {},
   "source": [
    "##### Le fichier movies.json à été créé :"
   ]
  },
  {
   "cell_type": "markdown",
   "metadata": {},
   "source": [
    "![json](IMG/fichier_json.PNG)"
   ]
  },
  {
   "cell_type": "markdown",
   "metadata": {},
   "source": [
    "-------------"
   ]
  },
  {
   "cell_type": "markdown",
   "metadata": {},
   "source": [
    "### Connexion à MongoDB :"
   ]
  },
  {
   "cell_type": "code",
   "execution_count": 2,
   "metadata": {},
   "outputs": [
    {
     "name": "stdout",
     "output_type": "stream",
     "text": [
      "Connexion réussie !\n"
     ]
    }
   ],
   "source": [
    "from pymongo import MongoClient\n",
    "\n",
    "try:\n",
    "    # Connexion à MongoClient \n",
    "    client = MongoClient(\"localhost\", 27017)\n",
    "\n",
    "except:\n",
    "    \n",
    "    print(\"La connexion à échouer\")\n",
    "    exit(1)\n",
    "    \n",
    "    \n",
    "else:\n",
    "    print(\"Connexion réussie !\")"
   ]
  },
  {
   "cell_type": "markdown",
   "metadata": {},
   "source": [
    "--------------"
   ]
  },
  {
   "cell_type": "markdown",
   "metadata": {},
   "source": [
    "### Création de la base de donnée + collection + insertion :"
   ]
  },
  {
   "cell_type": "code",
   "execution_count": 3,
   "metadata": {},
   "outputs": [
    {
     "name": "stdout",
     "output_type": "stream",
     "text": [
      "La création de la base de donnée, puis la collection et l'insertion est un succès\n"
     ]
    }
   ],
   "source": [
    "import json\n",
    "\n",
    "\n",
    "try:\n",
    "    # Chargement du fichier json\n",
    "    \n",
    "    file_json = 'BDD_json/movies.json'\n",
    "    \n",
    "    # Création de la base de donnée\n",
    "    \n",
    "    db = client['FloupicsDB']\n",
    "\n",
    "    # Création de la table(collection)\n",
    "    \n",
    "    collection = db['movies']\n",
    "    \n",
    "    # Insertion du fichier json dans la collection \n",
    "    \n",
    "    with open(file_json) as f:\n",
    "        file_data = json.load(f)\n",
    "\n",
    "    collection.insert_many(file_data)\n",
    "    \n",
    "except:\n",
    "    \n",
    "    print(\"Une erreur est survenue !\")\n",
    "    exit(1)\n",
    "    \n",
    "else:\n",
    "    \n",
    "    print(\"La création de la base de donnée, puis la collection et l'insertion est un succès\")"
   ]
  },
  {
   "cell_type": "markdown",
   "metadata": {},
   "source": [
    "##### Database :"
   ]
  },
  {
   "cell_type": "markdown",
   "metadata": {},
   "source": [
    "![Database](IMG/Floupics.PNG)"
   ]
  },
  {
   "cell_type": "markdown",
   "metadata": {},
   "source": [
    "##### Collection : "
   ]
  },
  {
   "cell_type": "markdown",
   "metadata": {},
   "source": [
    "![Collection](IMG/Collection.PNG)"
   ]
  },
  {
   "cell_type": "markdown",
   "metadata": {},
   "source": [
    "##### Insertion : "
   ]
  },
  {
   "cell_type": "markdown",
   "metadata": {},
   "source": [
    "![Insertion](IMG/donnée_json.PNG)"
   ]
  },
  {
   "cell_type": "markdown",
   "metadata": {},
   "source": [
    "-----------------"
   ]
  },
  {
   "cell_type": "markdown",
   "metadata": {},
   "source": [
    "### Requête :"
   ]
  },
  {
   "cell_type": "markdown",
   "metadata": {},
   "source": [
    "##### Python / pymongo :"
   ]
  },
  {
   "cell_type": "code",
   "execution_count": 4,
   "metadata": {},
   "outputs": [
    {
     "name": "stdout",
     "output_type": "stream",
     "text": [
      "{'_id': ObjectId('5fdca5f17fdcd727416b58c7'), 'movieId': '5', 'title': 'Father of the Bride Part II (1995)', 'genres': 'Comedy'}\n",
      "{'_id': ObjectId('5fdca5f17fdcd727416b58d4'), 'movieId': '18', 'title': 'Four Rooms (1995)', 'genres': 'Comedy'}\n",
      "{'_id': ObjectId('5fdca5f17fdcd727416b58d5'), 'movieId': '19', 'title': 'Ace Ventura: When Nature Calls (1995)', 'genres': 'Comedy'}\n",
      "{'_id': ObjectId('5fdca5f17fdcd727416b58fd'), 'movieId': '65', 'title': 'Bio-Dome (1996)', 'genres': 'Comedy'}\n",
      "{'_id': ObjectId('5fdca5f17fdcd727416b5900'), 'movieId': '69', 'title': 'Friday (1995)', 'genres': 'Comedy'}\n",
      "{'_id': ObjectId('5fdca5f17fdcd727416b5912'), 'movieId': '88', 'title': 'Black Sheep (1996)', 'genres': 'Comedy'}\n",
      "{'_id': ObjectId('5fdca5f17fdcd727416b591d'), 'movieId': '102', 'title': 'Mr. Wrong (1996)', 'genres': 'Comedy'}\n",
      "{'_id': ObjectId('5fdca5f17fdcd727416b591f'), 'movieId': '104', 'title': 'Happy Gilmore (1996)', 'genres': 'Comedy'}\n",
      "{'_id': ObjectId('5fdca5f17fdcd727416b592b'), 'movieId': '119', 'title': 'Steal Big, Steal Little (1995)', 'genres': 'Comedy'}\n",
      "{'_id': ObjectId('5fdca5f17fdcd727416b592f'), 'movieId': '125', 'title': 'Flirting With Disaster (1996)', 'genres': 'Comedy'}\n"
     ]
    }
   ],
   "source": [
    "query = db.movies.find({\"genres\":\"Comedy\"}).limit(10)\n",
    "    \n",
    "    \n",
    "for x in query:    \n",
    "    print(x)"
   ]
  },
  {
   "cell_type": "markdown",
   "metadata": {},
   "source": [
    "##### MongoDB Compass :"
   ]
  },
  {
   "cell_type": "markdown",
   "metadata": {},
   "source": [
    "![querymongo](IMG/query_mongo.PNG)"
   ]
  },
  {
   "cell_type": "markdown",
   "metadata": {},
   "source": [
    "--------------------"
   ]
  }
 ],
 "metadata": {
  "kernelspec": {
   "display_name": "Python 3",
   "language": "python",
   "name": "python3"
  },
  "language_info": {
   "codemirror_mode": {
    "name": "ipython",
    "version": 3
   },
   "file_extension": ".py",
   "mimetype": "text/x-python",
   "name": "python",
   "nbconvert_exporter": "python",
   "pygments_lexer": "ipython3",
   "version": "3.8.6"
  }
 },
 "nbformat": 4,
 "nbformat_minor": 4
}
